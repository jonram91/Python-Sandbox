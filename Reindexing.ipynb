{
 "cells": [
  {
   "cell_type": "code",
   "execution_count": 1,
   "metadata": {
    "collapsed": true
   },
   "outputs": [],
   "source": [
    "import numpy as np\n",
    "from pandas import Series, DataFrame\n",
    "import pandas as pd\n",
    "\n",
    "from numpy.random import randn"
   ]
  },
  {
   "cell_type": "code",
   "execution_count": 2,
   "metadata": {
    "collapsed": false
   },
   "outputs": [
    {
     "data": {
      "text/plain": [
       "A    1\n",
       "B    2\n",
       "C    3\n",
       "D    4\n",
       "dtype: int64"
      ]
     },
     "execution_count": 2,
     "metadata": {},
     "output_type": "execute_result"
    }
   ],
   "source": [
    "ser1 = Series([1,2,3,4], index = ['A','B','C','D'])\n",
    "ser1"
   ]
  },
  {
   "cell_type": "code",
   "execution_count": 3,
   "metadata": {
    "collapsed": false
   },
   "outputs": [
    {
     "data": {
      "text/plain": [
       "A    1.0\n",
       "B    2.0\n",
       "C    3.0\n",
       "D    4.0\n",
       "E    NaN\n",
       "F    NaN\n",
       "dtype: float64"
      ]
     },
     "execution_count": 3,
     "metadata": {},
     "output_type": "execute_result"
    }
   ],
   "source": [
    "ser2 = ser1.reindex(['A','B','C','D','E','F'])\n",
    "ser2"
   ]
  },
  {
   "cell_type": "code",
   "execution_count": 5,
   "metadata": {
    "collapsed": false
   },
   "outputs": [
    {
     "data": {
      "text/plain": [
       "A    1.0\n",
       "B    2.0\n",
       "C    3.0\n",
       "D    4.0\n",
       "E    NaN\n",
       "F    NaN\n",
       "G    0.0\n",
       "dtype: float64"
      ]
     },
     "execution_count": 5,
     "metadata": {},
     "output_type": "execute_result"
    }
   ],
   "source": [
    "ser2.reindex(['A','B','C','D','E','F','G'], fill_value = 0)"
   ]
  },
  {
   "cell_type": "code",
   "execution_count": 6,
   "metadata": {
    "collapsed": true
   },
   "outputs": [],
   "source": [
    "ser3 = Series(['USA','Mexico', 'Canada'], index=[0,5,10])"
   ]
  },
  {
   "cell_type": "code",
   "execution_count": 7,
   "metadata": {
    "collapsed": false
   },
   "outputs": [
    {
     "data": {
      "text/plain": [
       "0        USA\n",
       "5     Mexico\n",
       "10    Canada\n",
       "dtype: object"
      ]
     },
     "execution_count": 7,
     "metadata": {},
     "output_type": "execute_result"
    }
   ],
   "source": [
    "ser3"
   ]
  },
  {
   "cell_type": "code",
   "execution_count": 9,
   "metadata": {
    "collapsed": false
   },
   "outputs": [
    {
     "data": {
      "text/plain": [
       "[0, 1, 2, 3, 4, 5, 6, 7, 8, 9, 10, 11, 12, 13, 14]"
      ]
     },
     "execution_count": 9,
     "metadata": {},
     "output_type": "execute_result"
    }
   ],
   "source": [
    "ranger = range(15)\n",
    "ranger"
   ]
  },
  {
   "cell_type": "raw",
   "metadata": {},
   "source": []
  },
  {
   "cell_type": "code",
   "execution_count": 10,
   "metadata": {
    "collapsed": false
   },
   "outputs": [
    {
     "data": {
      "text/plain": [
       "0        USA\n",
       "1        USA\n",
       "2        USA\n",
       "3        USA\n",
       "4        USA\n",
       "5     Mexico\n",
       "6     Mexico\n",
       "7     Mexico\n",
       "8     Mexico\n",
       "9     Mexico\n",
       "10    Canada\n",
       "11    Canada\n",
       "12    Canada\n",
       "13    Canada\n",
       "14    Canada\n",
       "dtype: object"
      ]
     },
     "execution_count": 10,
     "metadata": {},
     "output_type": "execute_result"
    }
   ],
   "source": [
    "ser3.reindex(ranger,method = 'ffill')"
   ]
  },
  {
   "cell_type": "code",
   "execution_count": 24,
   "metadata": {
    "collapsed": false
   },
   "outputs": [
    {
     "name": "stdout",
     "output_type": "stream",
     "text": [
      "[[-0.9707254  -1.10063449 -1.79652408  0.3514514  -2.19211989]\n",
      " [-1.56697655 -0.67569223  0.47293825 -0.28723181 -1.80927442]\n",
      " [ 0.71488288 -0.36996519  0.10824528  0.1086384  -1.38771289]\n",
      " [ 0.76023252  2.55852222  0.58064297  0.44086514  0.48946744]\n",
      " [ 0.13976686 -0.28209381  0.33152217 -0.68431838 -0.29704001]]\n"
     ]
    }
   ],
   "source": [
    "rNums = randn(25)\n",
    "rNums\n",
    "\n",
    "rNums = rNums.reshape(5,5)\n",
    "\n",
    "print rNums\n"
   ]
  },
  {
   "cell_type": "code",
   "execution_count": 26,
   "metadata": {
    "collapsed": false
   },
   "outputs": [
    {
     "data": {
      "text/html": [
       "<div>\n",
       "<table border=\"1\" class=\"dataframe\">\n",
       "  <thead>\n",
       "    <tr style=\"text-align: right;\">\n",
       "      <th></th>\n",
       "      <th>col1</th>\n",
       "      <th>col2</th>\n",
       "      <th>col3</th>\n",
       "      <th>col4</th>\n",
       "      <th>col5</th>\n",
       "    </tr>\n",
       "  </thead>\n",
       "  <tbody>\n",
       "    <tr>\n",
       "      <th>A</th>\n",
       "      <td>-0.970725</td>\n",
       "      <td>-1.100634</td>\n",
       "      <td>-1.796524</td>\n",
       "      <td>0.351451</td>\n",
       "      <td>-2.192120</td>\n",
       "    </tr>\n",
       "    <tr>\n",
       "      <th>B</th>\n",
       "      <td>-1.566977</td>\n",
       "      <td>-0.675692</td>\n",
       "      <td>0.472938</td>\n",
       "      <td>-0.287232</td>\n",
       "      <td>-1.809274</td>\n",
       "    </tr>\n",
       "    <tr>\n",
       "      <th>D</th>\n",
       "      <td>0.714883</td>\n",
       "      <td>-0.369965</td>\n",
       "      <td>0.108245</td>\n",
       "      <td>0.108638</td>\n",
       "      <td>-1.387713</td>\n",
       "    </tr>\n",
       "    <tr>\n",
       "      <th>E</th>\n",
       "      <td>0.760233</td>\n",
       "      <td>2.558522</td>\n",
       "      <td>0.580643</td>\n",
       "      <td>0.440865</td>\n",
       "      <td>0.489467</td>\n",
       "    </tr>\n",
       "    <tr>\n",
       "      <th>F</th>\n",
       "      <td>0.139767</td>\n",
       "      <td>-0.282094</td>\n",
       "      <td>0.331522</td>\n",
       "      <td>-0.684318</td>\n",
       "      <td>-0.297040</td>\n",
       "    </tr>\n",
       "  </tbody>\n",
       "</table>\n",
       "</div>"
      ],
      "text/plain": [
       "       col1      col2      col3      col4      col5\n",
       "A -0.970725 -1.100634 -1.796524  0.351451 -2.192120\n",
       "B -1.566977 -0.675692  0.472938 -0.287232 -1.809274\n",
       "D  0.714883 -0.369965  0.108245  0.108638 -1.387713\n",
       "E  0.760233  2.558522  0.580643  0.440865  0.489467\n",
       "F  0.139767 -0.282094  0.331522 -0.684318 -0.297040"
      ]
     },
     "execution_count": 26,
     "metadata": {},
     "output_type": "execute_result"
    }
   ],
   "source": [
    "dframe = DataFrame(rNums, index = ['A', 'B','D','E','F'], columns = ['col1', 'col2','col3','col4','col5'])\n",
    "\n",
    "dframe"
   ]
  },
  {
   "cell_type": "code",
   "execution_count": 27,
   "metadata": {
    "collapsed": true
   },
   "outputs": [],
   "source": [
    "dframe2 = dframe.reindex(['A','B','C','D','E','F'], fill_value =99)"
   ]
  },
  {
   "cell_type": "code",
   "execution_count": 28,
   "metadata": {
    "collapsed": false
   },
   "outputs": [
    {
     "data": {
      "text/html": [
       "<div>\n",
       "<table border=\"1\" class=\"dataframe\">\n",
       "  <thead>\n",
       "    <tr style=\"text-align: right;\">\n",
       "      <th></th>\n",
       "      <th>col1</th>\n",
       "      <th>col2</th>\n",
       "      <th>col3</th>\n",
       "      <th>col4</th>\n",
       "      <th>col5</th>\n",
       "    </tr>\n",
       "  </thead>\n",
       "  <tbody>\n",
       "    <tr>\n",
       "      <th>A</th>\n",
       "      <td>-0.970725</td>\n",
       "      <td>-1.100634</td>\n",
       "      <td>-1.796524</td>\n",
       "      <td>0.351451</td>\n",
       "      <td>-2.192120</td>\n",
       "    </tr>\n",
       "    <tr>\n",
       "      <th>B</th>\n",
       "      <td>-1.566977</td>\n",
       "      <td>-0.675692</td>\n",
       "      <td>0.472938</td>\n",
       "      <td>-0.287232</td>\n",
       "      <td>-1.809274</td>\n",
       "    </tr>\n",
       "    <tr>\n",
       "      <th>C</th>\n",
       "      <td>99.000000</td>\n",
       "      <td>99.000000</td>\n",
       "      <td>99.000000</td>\n",
       "      <td>99.000000</td>\n",
       "      <td>99.000000</td>\n",
       "    </tr>\n",
       "    <tr>\n",
       "      <th>D</th>\n",
       "      <td>0.714883</td>\n",
       "      <td>-0.369965</td>\n",
       "      <td>0.108245</td>\n",
       "      <td>0.108638</td>\n",
       "      <td>-1.387713</td>\n",
       "    </tr>\n",
       "    <tr>\n",
       "      <th>E</th>\n",
       "      <td>0.760233</td>\n",
       "      <td>2.558522</td>\n",
       "      <td>0.580643</td>\n",
       "      <td>0.440865</td>\n",
       "      <td>0.489467</td>\n",
       "    </tr>\n",
       "    <tr>\n",
       "      <th>F</th>\n",
       "      <td>0.139767</td>\n",
       "      <td>-0.282094</td>\n",
       "      <td>0.331522</td>\n",
       "      <td>-0.684318</td>\n",
       "      <td>-0.297040</td>\n",
       "    </tr>\n",
       "  </tbody>\n",
       "</table>\n",
       "</div>"
      ],
      "text/plain": [
       "        col1       col2       col3       col4       col5\n",
       "A  -0.970725  -1.100634  -1.796524   0.351451  -2.192120\n",
       "B  -1.566977  -0.675692   0.472938  -0.287232  -1.809274\n",
       "C  99.000000  99.000000  99.000000  99.000000  99.000000\n",
       "D   0.714883  -0.369965   0.108245   0.108638  -1.387713\n",
       "E   0.760233   2.558522   0.580643   0.440865   0.489467\n",
       "F   0.139767  -0.282094   0.331522  -0.684318  -0.297040"
      ]
     },
     "execution_count": 28,
     "metadata": {},
     "output_type": "execute_result"
    }
   ],
   "source": [
    "dframe2"
   ]
  },
  {
   "cell_type": "code",
   "execution_count": 29,
   "metadata": {
    "collapsed": true
   },
   "outputs": [],
   "source": [
    "new_columns = ['col1', 'col2', 'col3','col4', 'col5', 'col6']"
   ]
  },
  {
   "cell_type": "code",
   "execution_count": 30,
   "metadata": {
    "collapsed": false
   },
   "outputs": [
    {
     "data": {
      "text/html": [
       "<div>\n",
       "<table border=\"1\" class=\"dataframe\">\n",
       "  <thead>\n",
       "    <tr style=\"text-align: right;\">\n",
       "      <th></th>\n",
       "      <th>col1</th>\n",
       "      <th>col2</th>\n",
       "      <th>col3</th>\n",
       "      <th>col4</th>\n",
       "      <th>col5</th>\n",
       "      <th>col6</th>\n",
       "    </tr>\n",
       "  </thead>\n",
       "  <tbody>\n",
       "    <tr>\n",
       "      <th>A</th>\n",
       "      <td>-0.970725</td>\n",
       "      <td>-1.100634</td>\n",
       "      <td>-1.796524</td>\n",
       "      <td>0.351451</td>\n",
       "      <td>-2.192120</td>\n",
       "      <td>NaN</td>\n",
       "    </tr>\n",
       "    <tr>\n",
       "      <th>B</th>\n",
       "      <td>-1.566977</td>\n",
       "      <td>-0.675692</td>\n",
       "      <td>0.472938</td>\n",
       "      <td>-0.287232</td>\n",
       "      <td>-1.809274</td>\n",
       "      <td>NaN</td>\n",
       "    </tr>\n",
       "    <tr>\n",
       "      <th>D</th>\n",
       "      <td>0.714883</td>\n",
       "      <td>-0.369965</td>\n",
       "      <td>0.108245</td>\n",
       "      <td>0.108638</td>\n",
       "      <td>-1.387713</td>\n",
       "      <td>NaN</td>\n",
       "    </tr>\n",
       "    <tr>\n",
       "      <th>E</th>\n",
       "      <td>0.760233</td>\n",
       "      <td>2.558522</td>\n",
       "      <td>0.580643</td>\n",
       "      <td>0.440865</td>\n",
       "      <td>0.489467</td>\n",
       "      <td>NaN</td>\n",
       "    </tr>\n",
       "    <tr>\n",
       "      <th>F</th>\n",
       "      <td>0.139767</td>\n",
       "      <td>-0.282094</td>\n",
       "      <td>0.331522</td>\n",
       "      <td>-0.684318</td>\n",
       "      <td>-0.297040</td>\n",
       "      <td>NaN</td>\n",
       "    </tr>\n",
       "  </tbody>\n",
       "</table>\n",
       "</div>"
      ],
      "text/plain": [
       "       col1      col2      col3      col4      col5  col6\n",
       "A -0.970725 -1.100634 -1.796524  0.351451 -2.192120   NaN\n",
       "B -1.566977 -0.675692  0.472938 -0.287232 -1.809274   NaN\n",
       "D  0.714883 -0.369965  0.108245  0.108638 -1.387713   NaN\n",
       "E  0.760233  2.558522  0.580643  0.440865  0.489467   NaN\n",
       "F  0.139767 -0.282094  0.331522 -0.684318 -0.297040   NaN"
      ]
     },
     "execution_count": 30,
     "metadata": {},
     "output_type": "execute_result"
    }
   ],
   "source": [
    "dframe.reindex(columns = new_columns)"
   ]
  },
  {
   "cell_type": "code",
   "execution_count": 33,
   "metadata": {
    "collapsed": false
   },
   "outputs": [],
   "source": [
    "dframe\n",
    "\n",
    "new_rows = ['A','B','C','D','E','F']"
   ]
  },
  {
   "cell_type": "code",
   "execution_count": 34,
   "metadata": {
    "collapsed": false
   },
   "outputs": [
    {
     "data": {
      "text/html": [
       "<div>\n",
       "<table border=\"1\" class=\"dataframe\">\n",
       "  <thead>\n",
       "    <tr style=\"text-align: right;\">\n",
       "      <th></th>\n",
       "      <th>col1</th>\n",
       "      <th>col2</th>\n",
       "      <th>col3</th>\n",
       "      <th>col4</th>\n",
       "      <th>col5</th>\n",
       "      <th>col6</th>\n",
       "    </tr>\n",
       "  </thead>\n",
       "  <tbody>\n",
       "    <tr>\n",
       "      <th>A</th>\n",
       "      <td>-0.970725</td>\n",
       "      <td>-1.100634</td>\n",
       "      <td>-1.796524</td>\n",
       "      <td>0.351451</td>\n",
       "      <td>-2.192120</td>\n",
       "      <td>NaN</td>\n",
       "    </tr>\n",
       "    <tr>\n",
       "      <th>B</th>\n",
       "      <td>-1.566977</td>\n",
       "      <td>-0.675692</td>\n",
       "      <td>0.472938</td>\n",
       "      <td>-0.287232</td>\n",
       "      <td>-1.809274</td>\n",
       "      <td>NaN</td>\n",
       "    </tr>\n",
       "    <tr>\n",
       "      <th>C</th>\n",
       "      <td>NaN</td>\n",
       "      <td>NaN</td>\n",
       "      <td>NaN</td>\n",
       "      <td>NaN</td>\n",
       "      <td>NaN</td>\n",
       "      <td>NaN</td>\n",
       "    </tr>\n",
       "    <tr>\n",
       "      <th>D</th>\n",
       "      <td>0.714883</td>\n",
       "      <td>-0.369965</td>\n",
       "      <td>0.108245</td>\n",
       "      <td>0.108638</td>\n",
       "      <td>-1.387713</td>\n",
       "      <td>NaN</td>\n",
       "    </tr>\n",
       "    <tr>\n",
       "      <th>E</th>\n",
       "      <td>0.760233</td>\n",
       "      <td>2.558522</td>\n",
       "      <td>0.580643</td>\n",
       "      <td>0.440865</td>\n",
       "      <td>0.489467</td>\n",
       "      <td>NaN</td>\n",
       "    </tr>\n",
       "    <tr>\n",
       "      <th>F</th>\n",
       "      <td>0.139767</td>\n",
       "      <td>-0.282094</td>\n",
       "      <td>0.331522</td>\n",
       "      <td>-0.684318</td>\n",
       "      <td>-0.297040</td>\n",
       "      <td>NaN</td>\n",
       "    </tr>\n",
       "  </tbody>\n",
       "</table>\n",
       "</div>"
      ],
      "text/plain": [
       "       col1      col2      col3      col4      col5  col6\n",
       "A -0.970725 -1.100634 -1.796524  0.351451 -2.192120   NaN\n",
       "B -1.566977 -0.675692  0.472938 -0.287232 -1.809274   NaN\n",
       "C       NaN       NaN       NaN       NaN       NaN   NaN\n",
       "D  0.714883 -0.369965  0.108245  0.108638 -1.387713   NaN\n",
       "E  0.760233  2.558522  0.580643  0.440865  0.489467   NaN\n",
       "F  0.139767 -0.282094  0.331522 -0.684318 -0.297040   NaN"
      ]
     },
     "execution_count": 34,
     "metadata": {},
     "output_type": "execute_result"
    }
   ],
   "source": [
    "dframe.ix[new_rows,new_columns]"
   ]
  },
  {
   "cell_type": "code",
   "execution_count": null,
   "metadata": {
    "collapsed": true
   },
   "outputs": [],
   "source": []
  }
 ],
 "metadata": {
  "anaconda-cloud": {},
  "kernelspec": {
   "display_name": "Python [Root]",
   "language": "python",
   "name": "Python [Root]"
  },
  "language_info": {
   "codemirror_mode": {
    "name": "ipython",
    "version": 2
   },
   "file_extension": ".py",
   "mimetype": "text/x-python",
   "name": "python",
   "nbconvert_exporter": "python",
   "pygments_lexer": "ipython2",
   "version": "2.7.12"
  }
 },
 "nbformat": 4,
 "nbformat_minor": 0
}
