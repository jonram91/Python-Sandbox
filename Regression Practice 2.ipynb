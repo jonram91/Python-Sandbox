{
 "cells": [
  {
   "cell_type": "code",
   "execution_count": 1,
   "metadata": {
    "collapsed": true
   },
   "outputs": [],
   "source": [
    "import numpy as np\n",
    "import pandas as pd\n",
    "from pandas import Series,DataFrame\n",
    "from statsmodels.formula.api import ols\n",
    "from statsmodels.formula.api import logit"
   ]
  },
  {
   "cell_type": "code",
   "execution_count": 3,
   "metadata": {
    "collapsed": true
   },
   "outputs": [],
   "source": [
    "#First Load the Data File\n",
    "\n",
    "file_location = \"/Users/jonathanjramirez/Downloads/HeartDisease.csv\"\n",
    "heart_disease = pd.read_csv('/Users/jonathanjramirez/Downloads/HeartDisease.csv', sep=',', na_values=\"99\")"
   ]
  },
  {
   "cell_type": "code",
   "execution_count": 4,
   "metadata": {
    "collapsed": false
   },
   "outputs": [
    {
     "data": {
      "text/html": [
       "<div>\n",
       "<table border=\"1\" class=\"dataframe\">\n",
       "  <thead>\n",
       "    <tr style=\"text-align: right;\">\n",
       "      <th></th>\n",
       "      <th>Case</th>\n",
       "      <th>x1</th>\n",
       "      <th>x2</th>\n",
       "      <th>x3</th>\n",
       "      <th>x4</th>\n",
       "      <th>x5</th>\n",
       "      <th>HeartDisease</th>\n",
       "    </tr>\n",
       "  </thead>\n",
       "  <tbody>\n",
       "    <tr>\n",
       "      <th>0</th>\n",
       "      <td>1.0</td>\n",
       "      <td>160</td>\n",
       "      <td>5.73</td>\n",
       "      <td>1</td>\n",
       "      <td>25.30</td>\n",
       "      <td>52</td>\n",
       "      <td>1</td>\n",
       "    </tr>\n",
       "    <tr>\n",
       "      <th>1</th>\n",
       "      <td>2.0</td>\n",
       "      <td>144</td>\n",
       "      <td>4.41</td>\n",
       "      <td>0</td>\n",
       "      <td>28.87</td>\n",
       "      <td>63</td>\n",
       "      <td>1</td>\n",
       "    </tr>\n",
       "    <tr>\n",
       "      <th>2</th>\n",
       "      <td>3.0</td>\n",
       "      <td>118</td>\n",
       "      <td>3.48</td>\n",
       "      <td>1</td>\n",
       "      <td>29.14</td>\n",
       "      <td>46</td>\n",
       "      <td>0</td>\n",
       "    </tr>\n",
       "    <tr>\n",
       "      <th>3</th>\n",
       "      <td>4.0</td>\n",
       "      <td>170</td>\n",
       "      <td>6.41</td>\n",
       "      <td>1</td>\n",
       "      <td>31.99</td>\n",
       "      <td>58</td>\n",
       "      <td>1</td>\n",
       "    </tr>\n",
       "    <tr>\n",
       "      <th>4</th>\n",
       "      <td>5.0</td>\n",
       "      <td>134</td>\n",
       "      <td>3.50</td>\n",
       "      <td>1</td>\n",
       "      <td>25.99</td>\n",
       "      <td>49</td>\n",
       "      <td>1</td>\n",
       "    </tr>\n",
       "  </tbody>\n",
       "</table>\n",
       "</div>"
      ],
      "text/plain": [
       "   Case   x1    x2  x3     x4  x5  HeartDisease\n",
       "0   1.0  160  5.73   1  25.30  52             1\n",
       "1   2.0  144  4.41   0  28.87  63             1\n",
       "2   3.0  118  3.48   1  29.14  46             0\n",
       "3   4.0  170  6.41   1  31.99  58             1\n",
       "4   5.0  134  3.50   1  25.99  49             1"
      ]
     },
     "execution_count": 4,
     "metadata": {},
     "output_type": "execute_result"
    }
   ],
   "source": [
    "#View the file's head\n",
    "heart_disease.head()"
   ]
  },
  {
   "cell_type": "code",
   "execution_count": 6,
   "metadata": {
    "collapsed": false
   },
   "outputs": [
    {
     "name": "stdout",
     "output_type": "stream",
     "text": [
      "Optimization terminated successfully.\n",
      "         Current function value: 0.534216\n",
      "         Iterations 6\n",
      "                           Logit Regression Results                           \n",
      "==============================================================================\n",
      "Dep. Variable:           HeartDisease   No. Observations:                  462\n",
      "Model:                          Logit   Df Residuals:                      456\n",
      "Method:                           MLE   Df Model:                            5\n",
      "Date:                Wed, 21 Sep 2016   Pseudo R-squ.:                  0.1719\n",
      "Time:                        22:48:06   Log-Likelihood:                -246.81\n",
      "converged:                       True   LL-Null:                       -298.05\n",
      "                                        LLR p-value:                 1.575e-20\n",
      "==============================================================================\n",
      "                 coef    std err          z      P>|z|      [95.0% Conf. Int.]\n",
      "------------------------------------------------------------------------------\n",
      "Intercept     -4.3134      0.944     -4.570      0.000        -6.164    -2.463\n",
      "x1             0.0064      0.006      1.169      0.242        -0.004     0.017\n",
      "x2             0.1862      0.056      3.305      0.001         0.076     0.297\n",
      "x3             0.9039      0.221      4.090      0.000         0.471     1.337\n",
      "x4            -0.0356      0.029     -1.236      0.216        -0.092     0.021\n",
      "x5             0.0528      0.010      5.548      0.000         0.034     0.071\n",
      "==============================================================================\n"
     ]
    }
   ],
   "source": [
    "#Because this is a binary variable, you will want to use logistic regression\n",
    "#The syntax should be logit('Dependent_Variable ~ Independent1 + Independent2..., dataset)\n",
    "model = logit('HeartDisease ~ x1 + x2 + x3 + x4 + x5', heart_disease).fit()\n",
    "print (model.summary())"
   ]
  },
  {
   "cell_type": "code",
   "execution_count": 9,
   "metadata": {
    "collapsed": false
   },
   "outputs": [
    {
     "name": "stdout",
     "output_type": "stream",
     "text": [
      "Odds Ratios\n",
      "           Lower CI  Upper CI  Odds Ratio\n",
      "Intercept  0.002105  0.085151    0.013388\n",
      "x1         0.995659  1.017370    1.006456\n",
      "x2         1.078711  1.345222    1.204618\n",
      "x3         1.601095  3.807748    2.469123\n",
      "x4         0.911967  1.021092    0.964988\n",
      "x5         1.034725  1.074036    1.054197\n"
     ]
    }
   ],
   "source": [
    "#You need to calculate the odds ratios in order to be able to interpret the results\n",
    "\n",
    "print(\"Odds Ratios\")\n",
    "params = model.params\n",
    "conf=model.conf_int()\n",
    "conf['Odds Ratio'] = params\n",
    "conf.columns = ['Lower CI', 'Upper CI', 'Odds Ratio']\n",
    "print(np.exp(conf))"
   ]
  },
  {
   "cell_type": "code",
   "execution_count": 10,
   "metadata": {
    "collapsed": false
   },
   "outputs": [
    {
     "name": "stdout",
     "output_type": "stream",
     "text": [
      "Patients that are x3 are about 2.47 times more likely than patients that are not to have heart disease.\n"
     ]
    }
   ],
   "source": [
    "#For binary variables, the interpretation is a bit simpler\n",
    "print \"Patients that are/have x3 are about 2.47 times more likely than patients that are not to have heart disease.\""
   ]
  },
  {
   "cell_type": "code",
   "execution_count": 13,
   "metadata": {
    "collapsed": false
   },
   "outputs": [
    {
     "data": {
      "text/plain": [
       "138.32683982683983"
      ]
     },
     "execution_count": 13,
     "metadata": {},
     "output_type": "execute_result"
    }
   ],
   "source": [
    "#For continuous variables, you need to calculate the mean of each variable and perform a few other operations.\n",
    "\n",
    "heart_disease['x1'].mean()\n"
   ]
  },
  {
   "cell_type": "code",
   "execution_count": 14,
   "metadata": {
    "collapsed": false
   },
   "outputs": [
    {
     "data": {
      "text/plain": [
       "101"
      ]
     },
     "execution_count": 14,
     "metadata": {},
     "output_type": "execute_result"
    }
   ],
   "source": [
    "heart_disease['x1'].min()\n"
   ]
  },
  {
   "cell_type": "code",
   "execution_count": 15,
   "metadata": {
    "collapsed": false
   },
   "outputs": [
    {
     "data": {
      "text/plain": [
       "218"
      ]
     },
     "execution_count": 15,
     "metadata": {},
     "output_type": "execute_result"
    }
   ],
   "source": [
    "heart_disease['x1'].max()"
   ]
  },
  {
   "cell_type": "code",
   "execution_count": 16,
   "metadata": {
    "collapsed": false
   },
   "outputs": [
    {
     "data": {
      "text/plain": [
       "134.0"
      ]
     },
     "execution_count": 16,
     "metadata": {},
     "output_type": "execute_result"
    }
   ],
   "source": [
    "heart_disease['x1'].median()"
   ]
  },
  {
   "cell_type": "code",
   "execution_count": 19,
   "metadata": {
    "collapsed": false
   },
   "outputs": [
    {
     "name": "stdout",
     "output_type": "stream",
     "text": [
      "People with 158 of x1 are 1 percent more likely to have heart disease than those with 138 of x1\n"
     ]
    }
   ],
   "source": [
    "#The formula is as follows for the necessary percentage to interpret Odds Ratios \n",
    "'''\n",
    "OddsRatio ^ difference from the mean = percentage\n",
    "\n",
    "People that have X amount of INDEPENDENT VARIABLE are percentage % more likely to have/be DEPENDENT VARIABLE\n",
    "'''\n",
    "print \"People with 158 of x1 are \" + str(int(1.01**20)) + \" percent more likely to have heart disease than those with 138 of x1\""
   ]
  },
  {
   "cell_type": "code",
   "execution_count": null,
   "metadata": {
    "collapsed": false
   },
   "outputs": [],
   "source": []
  },
  {
   "cell_type": "code",
   "execution_count": null,
   "metadata": {
    "collapsed": true
   },
   "outputs": [],
   "source": []
  }
 ],
 "metadata": {
  "kernelspec": {
   "display_name": "Python [Root]",
   "language": "python",
   "name": "Python [Root]"
  },
  "language_info": {
   "codemirror_mode": {
    "name": "ipython",
    "version": 2
   },
   "file_extension": ".py",
   "mimetype": "text/x-python",
   "name": "python",
   "nbconvert_exporter": "python",
   "pygments_lexer": "ipython2",
   "version": "2.7.12"
  }
 },
 "nbformat": 4,
 "nbformat_minor": 0
}
