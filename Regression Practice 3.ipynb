{
 "cells": [
  {
   "cell_type": "code",
   "execution_count": 15,
   "metadata": {
    "collapsed": true
   },
   "outputs": [],
   "source": [
    "import numpy as np\n",
    "import pandas as pd\n",
    "from pandas import Series, DataFrame\n",
    "from statsmodels.formula.api import ols\n",
    "from statsmodels.formula.api import logit\n",
    "\n",
    "from matplotlib.pyplot import *\n",
    "%matplotlib inline"
   ]
  },
  {
   "cell_type": "code",
   "execution_count": 16,
   "metadata": {
    "collapsed": false
   },
   "outputs": [
    {
     "data": {
      "text/html": [
       "<div>\n",
       "<table border=\"1\" class=\"dataframe\">\n",
       "  <thead>\n",
       "    <tr style=\"text-align: right;\">\n",
       "      <th></th>\n",
       "      <th>Case</th>\n",
       "      <th>Restaurant</th>\n",
       "      <th>Price</th>\n",
       "      <th>Food</th>\n",
       "      <th>Decor</th>\n",
       "      <th>Service</th>\n",
       "      <th>East</th>\n",
       "    </tr>\n",
       "  </thead>\n",
       "  <tbody>\n",
       "    <tr>\n",
       "      <th>0</th>\n",
       "      <td>1.0</td>\n",
       "      <td>Daniella Ristorante</td>\n",
       "      <td>43</td>\n",
       "      <td>22</td>\n",
       "      <td>18</td>\n",
       "      <td>20</td>\n",
       "      <td>0</td>\n",
       "    </tr>\n",
       "    <tr>\n",
       "      <th>1</th>\n",
       "      <td>2.0</td>\n",
       "      <td>Tello's Ristorante</td>\n",
       "      <td>32</td>\n",
       "      <td>20</td>\n",
       "      <td>19</td>\n",
       "      <td>19</td>\n",
       "      <td>0</td>\n",
       "    </tr>\n",
       "    <tr>\n",
       "      <th>2</th>\n",
       "      <td>3.0</td>\n",
       "      <td>Biricchino</td>\n",
       "      <td>34</td>\n",
       "      <td>21</td>\n",
       "      <td>13</td>\n",
       "      <td>18</td>\n",
       "      <td>0</td>\n",
       "    </tr>\n",
       "    <tr>\n",
       "      <th>3</th>\n",
       "      <td>4.0</td>\n",
       "      <td>Bottino</td>\n",
       "      <td>41</td>\n",
       "      <td>20</td>\n",
       "      <td>20</td>\n",
       "      <td>17</td>\n",
       "      <td>0</td>\n",
       "    </tr>\n",
       "    <tr>\n",
       "      <th>4</th>\n",
       "      <td>5.0</td>\n",
       "      <td>Da Umberto</td>\n",
       "      <td>54</td>\n",
       "      <td>24</td>\n",
       "      <td>19</td>\n",
       "      <td>21</td>\n",
       "      <td>0</td>\n",
       "    </tr>\n",
       "  </tbody>\n",
       "</table>\n",
       "</div>"
      ],
      "text/plain": [
       "   Case           Restaurant  Price  Food  Decor  Service  East\n",
       "0   1.0  Daniella Ristorante     43    22     18       20     0\n",
       "1   2.0   Tello's Ristorante     32    20     19       19     0\n",
       "2   3.0           Biricchino     34    21     13       18     0\n",
       "3   4.0              Bottino     41    20     20       17     0\n",
       "4   5.0           Da Umberto     54    24     19       21     0"
      ]
     },
     "execution_count": 16,
     "metadata": {},
     "output_type": "execute_result"
    }
   ],
   "source": [
    "#First Load the Data File\n",
    "#View the data\n",
    "file_location = \"/Users/jonathanjramirez/Downloads/nyc.csv\"\n",
    "nyc_restaurant = pd.read_csv(file_location , sep=',', na_values=\"99\")\n",
    "nyc_restaurant.head()"
   ]
  },
  {
   "cell_type": "code",
   "execution_count": 17,
   "metadata": {
    "collapsed": false
   },
   "outputs": [
    {
     "data": {
      "text/plain": [
       "[<matplotlib.lines.Line2D at 0x120918590>]"
      ]
     },
     "execution_count": 17,
     "metadata": {},
     "output_type": "execute_result"
    },
    {
     "data": {
      "image/png": "[encoded data removed]",
      "text/plain": [
       "<matplotlib.figure.Figure at 0x11d1a7fd0>"
      ]
     },
     "metadata": {},
     "output_type": "display_data"
    }
   ],
   "source": [
    "#Plot variables to view their relationship\n",
    "\n",
    "plot(nyc_restaurant['Food'],nyc_restaurant['Price'],'o')\n",
    "\n",
    "p1 = np.polyfit(nyc_restaurant['Food'],nyc_restaurant['Price'],1)\n",
    "p2 = np.polyfit(nyc_restaurant['Food'],nyc_restaurant['Price'],2)\n",
    "p3 = np.polyfit(nyc_restaurant['Food'],nyc_restaurant['Price'],3)\n",
    "\n",
    "\n",
    "xp = np.linspace(15,25,40)\n",
    "plot(xp,np.polyval(p1,xp), 'r-')\n",
    "plot(xp,np.polyval(p2,xp),'b--')\n",
    "plot(xp,np.polyval(p3,xp),'m:')"
   ]
  },
  {
   "cell_type": "code",
   "execution_count": 18,
   "metadata": {
    "collapsed": false
   },
   "outputs": [
    {
     "name": "stdout",
     "output_type": "stream",
     "text": [
      "                            OLS Regression Results                            \n",
      "==============================================================================\n",
      "Dep. Variable:                  Price   R-squared:                       0.628\n",
      "Model:                            OLS   Adj. R-squared:                  0.619\n",
      "Method:                 Least Squares   F-statistic:                     68.76\n",
      "Date:                Thu, 22 Sep 2016   Prob (F-statistic):           5.35e-34\n",
      "Time:                        00:06:13   Log-Likelihood:                -529.36\n",
      "No. Observations:                 168   AIC:                             1069.\n",
      "Df Residuals:                     163   BIC:                             1084.\n",
      "Df Model:                           4                                         \n",
      "Covariance Type:            nonrobust                                         \n",
      "==============================================================================\n",
      "                 coef    std err          t      P>|t|      [95.0% Conf. Int.]\n",
      "------------------------------------------------------------------------------\n",
      "Intercept    -24.0238      4.708     -5.102      0.000       -33.321   -14.727\n",
      "Food           1.5381      0.369      4.169      0.000         0.810     2.267\n",
      "Decor          1.9101      0.217      8.802      0.000         1.482     2.339\n",
      "Service       -0.0027      0.396     -0.007      0.995        -0.785     0.780\n",
      "East           2.0681      0.947      2.184      0.030         0.199     3.938\n",
      "==============================================================================\n",
      "Omnibus:                        5.180   Durbin-Watson:                   1.760\n",
      "Prob(Omnibus):                  0.075   Jarque-Bera (JB):                5.039\n",
      "Skew:                           0.304   Prob(JB):                       0.0805\n",
      "Kurtosis:                       3.591   Cond. No.                         357.\n",
      "==============================================================================\n",
      "\n",
      "Warnings:\n",
      "[1] Standard Errors assume that the covariance matrix of the errors is correctly specified.\n"
     ]
    }
   ],
   "source": [
    "model = ols(\"Price ~ Food + Decor + Service + East\", nyc_restaurant).fit()\n",
    "print (model.summary())"
   ]
  },
  {
   "cell_type": "code",
   "execution_count": 26,
   "metadata": {
    "collapsed": false
   },
   "outputs": [
    {
     "data": {
      "text/plain": [
       "[<matplotlib.lines.Line2D at 0x1217c7a90>]"
      ]
     },
     "execution_count": 26,
     "metadata": {},
     "output_type": "execute_result"
    },
    {
     "data": {
      "image/png": "[encoded data removed]",
      "text/plain": [
       "<matplotlib.figure.Figure at 0x1216d7750>"
      ]
     },
     "metadata": {},
     "output_type": "display_data"
    }
   ],
   "source": [
    "pred_y = model.predict()\n",
    "plot(nyc_restaurant['Food'],pred_y,'o')\n",
    "plot(nyc_restaurant['Food'],nyc_restaurant['Price'],'.')"
   ]
  },
  {
   "cell_type": "code",
   "execution_count": null,
   "metadata": {
    "collapsed": true
   },
   "outputs": [],
   "source": []
  }
 ],
 "metadata": {
  "kernelspec": {
   "display_name": "Python [Root]",
   "language": "python",
   "name": "Python [Root]"
  },
  "language_info": {
   "codemirror_mode": {
    "name": "ipython",
    "version": 2
   },
   "file_extension": ".py",
   "mimetype": "text/x-python",
   "name": "python",
   "nbconvert_exporter": "python",
   "pygments_lexer": "ipython2",
   "version": "2.7.12"
  }
 },
 "nbformat": 4,
 "nbformat_minor": 0
}
